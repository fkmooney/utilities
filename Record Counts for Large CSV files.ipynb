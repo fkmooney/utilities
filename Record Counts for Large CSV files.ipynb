{
 "cells": [
  {
   "cell_type": "code",
   "execution_count": 2,
   "id": "4c238a18",
   "metadata": {},
   "outputs": [],
   "source": [
    "import pandas as pd"
   ]
  },
  {
   "cell_type": "code",
   "execution_count": 12,
   "id": "e8f30849",
   "metadata": {},
   "outputs": [
    {
     "data": {
      "text/plain": [
       "60924474"
      ]
     },
     "execution_count": 12,
     "metadata": {},
     "output_type": "execute_result"
    }
   ],
   "source": [
    "df = pd.read_csv('Tim_records.csv')\n",
    "df.size"
   ]
  },
  {
   "cell_type": "code",
   "execution_count": 13,
   "id": "67033b5d",
   "metadata": {},
   "outputs": [
    {
     "data": {
      "text/html": [
       "<div>\n",
       "<style scoped>\n",
       "    .dataframe tbody tr th:only-of-type {\n",
       "        vertical-align: middle;\n",
       "    }\n",
       "\n",
       "    .dataframe tbody tr th {\n",
       "        vertical-align: top;\n",
       "    }\n",
       "\n",
       "    .dataframe thead th {\n",
       "        text-align: right;\n",
       "    }\n",
       "</style>\n",
       "<table border=\"1\" class=\"dataframe\">\n",
       "  <thead>\n",
       "    <tr style=\"text-align: right;\">\n",
       "      <th></th>\n",
       "      <th>Item ID Unsuppressed</th>\n",
       "      <th>Retailer Item UPC</th>\n",
       "      <th>Model</th>\n",
       "      <th>Internal Outlet</th>\n",
       "      <th>Time Periods</th>\n",
       "      <th>Raw Units</th>\n",
       "    </tr>\n",
       "  </thead>\n",
       "  <tbody>\n",
       "    <tr>\n",
       "      <th>0</th>\n",
       "      <td>100579</td>\n",
       "      <td>All Other (Suppressed)</td>\n",
       "      <td>625335</td>\n",
       "      <td>Amazon B2B</td>\n",
       "      <td>May 2019</td>\n",
       "      <td>49</td>\n",
       "    </tr>\n",
       "    <tr>\n",
       "      <th>1</th>\n",
       "      <td>100775</td>\n",
       "      <td>All Other (Suppressed)</td>\n",
       "      <td>99081</td>\n",
       "      <td>Staples Advantage</td>\n",
       "      <td>May 2020</td>\n",
       "      <td>7</td>\n",
       "    </tr>\n",
       "    <tr>\n",
       "      <th>2</th>\n",
       "      <td>100775</td>\n",
       "      <td>All Other (Suppressed)</td>\n",
       "      <td>99081</td>\n",
       "      <td>Staples Advantage</td>\n",
       "      <td>Oct 2021</td>\n",
       "      <td>12</td>\n",
       "    </tr>\n",
       "    <tr>\n",
       "      <th>3</th>\n",
       "      <td>100775</td>\n",
       "      <td>All Other (Suppressed)</td>\n",
       "      <td>99081</td>\n",
       "      <td>Office Depot Vert - Corp</td>\n",
       "      <td>Jun 2019</td>\n",
       "      <td>3</td>\n",
       "    </tr>\n",
       "    <tr>\n",
       "      <th>4</th>\n",
       "      <td>101142</td>\n",
       "      <td>All Other (Suppressed)</td>\n",
       "      <td>C9152A</td>\n",
       "      <td>S.P. Richards Co.</td>\n",
       "      <td>Aug 2019</td>\n",
       "      <td>4</td>\n",
       "    </tr>\n",
       "  </tbody>\n",
       "</table>\n",
       "</div>"
      ],
      "text/plain": [
       "   Item ID Unsuppressed       Retailer Item UPC   Model  \\\n",
       "0                100579  All Other (Suppressed)  625335   \n",
       "1                100775  All Other (Suppressed)   99081   \n",
       "2                100775  All Other (Suppressed)   99081   \n",
       "3                100775  All Other (Suppressed)   99081   \n",
       "4                101142  All Other (Suppressed)  C9152A   \n",
       "\n",
       "            Internal Outlet Time Periods  Raw Units  \n",
       "0                Amazon B2B     May 2019         49  \n",
       "1         Staples Advantage     May 2020          7  \n",
       "2         Staples Advantage     Oct 2021         12  \n",
       "3  Office Depot Vert - Corp     Jun 2019          3  \n",
       "4         S.P. Richards Co.     Aug 2019          4  "
      ]
     },
     "execution_count": 13,
     "metadata": {},
     "output_type": "execute_result"
    }
   ],
   "source": [
    "df.head()"
   ]
  },
  {
   "cell_type": "code",
   "execution_count": 15,
   "id": "bf584b20",
   "metadata": {},
   "outputs": [
    {
     "data": {
      "text/plain": [
       "Time Periods\n",
       "Apr 2019    291777\n",
       "Apr 2020    232396\n",
       "Apr 2021    234844\n",
       "Aug 2019    294578\n",
       "Aug 2020    243707\n",
       "Aug 2021    222310\n",
       "Dec 2019    296082\n",
       "Dec 2020    267412\n",
       "Dec 2021    239481\n",
       "Feb 2019    289163\n",
       "Feb 2020    272398\n",
       "Feb 2021    234259\n",
       "Feb 2022    217090\n",
       "Jan 2019    287340\n",
       "Jan 2020    275134\n",
       "Jan 2021    240738\n",
       "Jan 2022    207926\n",
       "Jul 2019    293594\n",
       "Jul 2020    243967\n",
       "Jul 2021    226960\n",
       "Jun 2019    321999\n",
       "Jun 2020    268800\n",
       "Jun 2021    254387\n",
       "Mar 2019    326298\n",
       "Mar 2020    282095\n",
       "Mar 2021    260893\n",
       "Mar 2022    245819\n",
       "May 2019    283518\n",
       "May 2020    230008\n",
       "May 2021    232451\n",
       "Nov 2019    279527\n",
       "Nov 2020    236570\n",
       "Nov 2021    211928\n",
       "Oct 2019    293933\n",
       "Oct 2020    248844\n",
       "Oct 2021    224347\n",
       "Sep 2019    317129\n",
       "Sep 2020    270876\n",
       "Sep 2021    253501\n",
       "dtype: int64"
      ]
     },
     "execution_count": 15,
     "metadata": {},
     "output_type": "execute_result"
    }
   ],
   "source": [
    "df.groupby(['Time Periods']).size()"
   ]
  },
  {
   "cell_type": "code",
   "execution_count": 22,
   "id": "87bd8dfe",
   "metadata": {},
   "outputs": [
    {
     "data": {
      "text/plain": [
       "Time Periods\n",
       "Apr 2019    141066\n",
       "Apr 2020    117046\n",
       "Apr 2021    118700\n",
       "Aug 2019    142043\n",
       "Aug 2020    120216\n",
       "Aug 2021    113220\n",
       "Dec 2019    144447\n",
       "Dec 2020    134782\n",
       "Dec 2021    125963\n",
       "Feb 2019    136930\n",
       "Feb 2020    127537\n",
       "Feb 2021    117693\n",
       "Feb 2022    111177\n",
       "Jan 2019    134810\n",
       "Jan 2020    129319\n",
       "Jan 2021    119076\n",
       "Jan 2022    106458\n",
       "Jul 2019    141388\n",
       "Jul 2020    121942\n",
       "Jul 2021    116324\n",
       "Jun 2019    154862\n",
       "Jun 2020    134451\n",
       "Jun 2021    128637\n",
       "Mar 2019    154929\n",
       "Mar 2020    134443\n",
       "Mar 2021    130505\n",
       "Mar 2022    125325\n",
       "May 2019    138257\n",
       "May 2020    115647\n",
       "May 2021    117214\n",
       "Nov 2019    134637\n",
       "Nov 2020    118004\n",
       "Nov 2021    110165\n",
       "Oct 2019    141061\n",
       "Oct 2020    123876\n",
       "Oct 2021    116283\n",
       "Sep 2019    151401\n",
       "Sep 2020    133811\n",
       "Sep 2021    130428\n",
       "Name: Item ID Unsuppressed, dtype: int64"
      ]
     },
     "execution_count": 22,
     "metadata": {},
     "output_type": "execute_result"
    }
   ],
   "source": [
    "df.groupby(['Time Periods'])['Item ID Unsuppressed'].nunique()"
   ]
  },
  {
   "cell_type": "code",
   "execution_count": 17,
   "id": "b97cebda",
   "metadata": {},
   "outputs": [
    {
     "data": {
      "text/plain": [
       "27956166"
      ]
     },
     "execution_count": 17,
     "metadata": {},
     "output_type": "execute_result"
    }
   ],
   "source": [
    "df2 = pd.read_csv('Tim_record_office.csv')\n",
    "df2.size"
   ]
  },
  {
   "cell_type": "code",
   "execution_count": 18,
   "id": "cbd84f5e",
   "metadata": {},
   "outputs": [
    {
     "data": {
      "text/html": [
       "<div>\n",
       "<style scoped>\n",
       "    .dataframe tbody tr th:only-of-type {\n",
       "        vertical-align: middle;\n",
       "    }\n",
       "\n",
       "    .dataframe tbody tr th {\n",
       "        vertical-align: top;\n",
       "    }\n",
       "\n",
       "    .dataframe thead th {\n",
       "        text-align: right;\n",
       "    }\n",
       "</style>\n",
       "<table border=\"1\" class=\"dataframe\">\n",
       "  <thead>\n",
       "    <tr style=\"text-align: right;\">\n",
       "      <th></th>\n",
       "      <th>Time Periods</th>\n",
       "      <th>Item ID Unsuppressed</th>\n",
       "      <th>Retailer Item UPC</th>\n",
       "      <th>Model</th>\n",
       "      <th>Internal Outlet</th>\n",
       "      <th>Raw Units</th>\n",
       "    </tr>\n",
       "  </thead>\n",
       "  <tbody>\n",
       "    <tr>\n",
       "      <th>0</th>\n",
       "      <td>Jan 2019</td>\n",
       "      <td>107705</td>\n",
       "      <td>All Other (Suppressed)</td>\n",
       "      <td>05203</td>\n",
       "      <td>Staples Advantage</td>\n",
       "      <td>489</td>\n",
       "    </tr>\n",
       "    <tr>\n",
       "      <th>1</th>\n",
       "      <td>Jan 2019</td>\n",
       "      <td>107736</td>\n",
       "      <td>All Other (Suppressed)</td>\n",
       "      <td>5315</td>\n",
       "      <td>Staples Advantage</td>\n",
       "      <td>208</td>\n",
       "    </tr>\n",
       "    <tr>\n",
       "      <th>2</th>\n",
       "      <td>Jan 2019</td>\n",
       "      <td>107760</td>\n",
       "      <td>All Other (Suppressed)</td>\n",
       "      <td>5260</td>\n",
       "      <td>Office Depot - corp</td>\n",
       "      <td>2093</td>\n",
       "    </tr>\n",
       "    <tr>\n",
       "      <th>3</th>\n",
       "      <td>Jan 2019</td>\n",
       "      <td>107952</td>\n",
       "      <td>All Other (Suppressed)</td>\n",
       "      <td>06571</td>\n",
       "      <td>Staples Advantage</td>\n",
       "      <td>2</td>\n",
       "    </tr>\n",
       "    <tr>\n",
       "      <th>4</th>\n",
       "      <td>Jan 2019</td>\n",
       "      <td>109781</td>\n",
       "      <td>All Other (Suppressed)</td>\n",
       "      <td>82361</td>\n",
       "      <td>quill.com</td>\n",
       "      <td>73</td>\n",
       "    </tr>\n",
       "  </tbody>\n",
       "</table>\n",
       "</div>"
      ],
      "text/plain": [
       "  Time Periods  Item ID Unsuppressed       Retailer Item UPC  Model  \\\n",
       "0     Jan 2019                107705  All Other (Suppressed)  05203   \n",
       "1     Jan 2019                107736  All Other (Suppressed)   5315   \n",
       "2     Jan 2019                107760  All Other (Suppressed)   5260   \n",
       "3     Jan 2019                107952  All Other (Suppressed)  06571   \n",
       "4     Jan 2019                109781  All Other (Suppressed)  82361   \n",
       "\n",
       "       Internal Outlet  Raw Units  \n",
       "0    Staples Advantage        489  \n",
       "1    Staples Advantage        208  \n",
       "2  Office Depot - corp       2093  \n",
       "3    Staples Advantage          2  \n",
       "4            quill.com         73  "
      ]
     },
     "execution_count": 18,
     "metadata": {},
     "output_type": "execute_result"
    }
   ],
   "source": [
    "df2.head()"
   ]
  },
  {
   "cell_type": "code",
   "execution_count": 19,
   "id": "00bbf149",
   "metadata": {},
   "outputs": [
    {
     "data": {
      "text/plain": [
       "Time Periods\n",
       "Apr 2019    118474\n",
       "Apr 2020    102044\n",
       "Apr 2021    117738\n",
       "Aug 2019    124222\n",
       "Aug 2020    117339\n",
       "Aug 2021    120839\n",
       "Dec 2019    125450\n",
       "Dec 2020    116931\n",
       "Dec 2021    118128\n",
       "Feb 2019    119537\n",
       "Feb 2020    121703\n",
       "Feb 2021    116869\n",
       "Feb 2022    115004\n",
       "Jan 2019    122357\n",
       "Jan 2020    125511\n",
       "Jan 2021    118852\n",
       "Jan 2022    115882\n",
       "Jul 2019    122483\n",
       "Jul 2020    113147\n",
       "Jul 2021    117892\n",
       "Jun 2019    127493\n",
       "Jun 2020    115096\n",
       "Jun 2021    121434\n",
       "Mar 2019    123582\n",
       "Mar 2020    118989\n",
       "Mar 2021    123120\n",
       "Mar 2022    118754\n",
       "May 2019    116336\n",
       "May 2020    107502\n",
       "May 2021    117526\n",
       "Nov 2019    124486\n",
       "Nov 2020    114819\n",
       "Nov 2021    116655\n",
       "Oct 2019    127857\n",
       "Oct 2020    117869\n",
       "Oct 2021    118413\n",
       "Sep 2019    132502\n",
       "Sep 2020    122235\n",
       "Sep 2021    124291\n",
       "dtype: int64"
      ]
     },
     "execution_count": 19,
     "metadata": {},
     "output_type": "execute_result"
    }
   ],
   "source": [
    "df2.groupby(['Time Periods']).size()"
   ]
  },
  {
   "cell_type": "code",
   "execution_count": 23,
   "id": "350aa3fe",
   "metadata": {},
   "outputs": [
    {
     "data": {
      "text/plain": [
       "Time Periods\n",
       "Apr 2019    60607\n",
       "Apr 2020    51420\n",
       "Apr 2021    56734\n",
       "Aug 2019    61088\n",
       "Aug 2020    57157\n",
       "Aug 2021    57340\n",
       "Dec 2019    60936\n",
       "Dec 2020    57710\n",
       "Dec 2021    56597\n",
       "Feb 2019    60580\n",
       "Feb 2020    59793\n",
       "Feb 2021    56698\n",
       "Feb 2022    54987\n",
       "Jan 2019    61625\n",
       "Jan 2020    60716\n",
       "Jan 2021    57472\n",
       "Jan 2022    55428\n",
       "Jul 2019    59997\n",
       "Jul 2020    55176\n",
       "Jul 2021    56358\n",
       "Jun 2019    62206\n",
       "Jun 2020    56249\n",
       "Jun 2021    58106\n",
       "Mar 2019    62540\n",
       "Mar 2020    58483\n",
       "Mar 2021    58888\n",
       "Mar 2022    56332\n",
       "May 2019    59859\n",
       "May 2020    53886\n",
       "May 2021    56769\n",
       "Nov 2019    60639\n",
       "Nov 2020    56727\n",
       "Nov 2021    56099\n",
       "Oct 2019    61361\n",
       "Oct 2020    57463\n",
       "Oct 2021    56504\n",
       "Sep 2019    63296\n",
       "Sep 2020    59180\n",
       "Sep 2021    58741\n",
       "Name: Item ID Unsuppressed, dtype: int64"
      ]
     },
     "execution_count": 23,
     "metadata": {},
     "output_type": "execute_result"
    }
   ],
   "source": [
    "df2.groupby(['Time Periods'])['Item ID Unsuppressed'].nunique()"
   ]
  },
  {
   "cell_type": "code",
   "execution_count": null,
   "id": "8777e531",
   "metadata": {},
   "outputs": [],
   "source": []
  }
 ],
 "metadata": {
  "kernelspec": {
   "display_name": "Python 3 (ipykernel)",
   "language": "python",
   "name": "python3"
  },
  "language_info": {
   "codemirror_mode": {
    "name": "ipython",
    "version": 3
   },
   "file_extension": ".py",
   "mimetype": "text/x-python",
   "name": "python",
   "nbconvert_exporter": "python",
   "pygments_lexer": "ipython3",
   "version": "3.9.6"
  }
 },
 "nbformat": 4,
 "nbformat_minor": 5
}
